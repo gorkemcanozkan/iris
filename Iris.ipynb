{
  "nbformat": 4,
  "nbformat_minor": 0,
  "metadata": {
    "colab": {
      "name": "Iris.ipynb",
      "provenance": [],
      "collapsed_sections": []
    },
    "kernelspec": {
      "name": "python3",
      "display_name": "Python 3"
    },
    "language_info": {
      "name": "python"
    }
  },
  "cells": [
    {
      "cell_type": "markdown",
      "metadata": {
        "id": "Pc5LYgRs8G68"
      },
      "source": [
        "<h1><strong>Iris Dataset</strong></h1>\n",
        "\n",
        "In this project, I will use Iris dataset, which is quite popular in the data science world. This dataset consists of 3 different types of irises’ (Setosa, Versicolour, and Virginica) petal and sepal length. I'm going to analyse, visualize and then, build a classification model. "
      ]
    },
    {
      "cell_type": "code",
      "metadata": {
        "id": "hLkeII3l8I8A"
      },
      "source": [
        "#First things first. I'm importing all the dependencies.\n",
        "\n",
        "import pandas as pd\n",
        "import numpy as np\n",
        "import seaborn as sns\n",
        "from matplotlib import pyplot as plt\n",
        "from sklearn.preprocessing import LabelEncoder\n",
        "from sklearn.model_selection import train_test_split\n",
        "import xgboost as xgb\n",
        "from sklearn.metrics import accuracy_score, confusion_matrix\n",
        "from sklearn.datasets import load_iris"
      ],
      "execution_count": 3,
      "outputs": []
    },
    {
      "cell_type": "code",
      "metadata": {
        "colab": {
          "base_uri": "https://localhost:8080/",
          "height": 419
        },
        "id": "OzstY_bF856B",
        "outputId": "b159562c-53f8-4865-8053-b1aab15811c3"
      },
      "source": [
        "#Importing my dataset here.\n",
        "\n",
        "data = load_iris()\n",
        "df = pd.DataFrame(data.data, columns=data.feature_names)\n",
        "df['species'] = pd.Categorical.from_codes(iris.target, iris.target_names)\n",
        "df"
      ],
      "execution_count": 18,
      "outputs": [
        {
          "output_type": "execute_result",
          "data": {
            "text/html": [
              "<div>\n",
              "<style scoped>\n",
              "    .dataframe tbody tr th:only-of-type {\n",
              "        vertical-align: middle;\n",
              "    }\n",
              "\n",
              "    .dataframe tbody tr th {\n",
              "        vertical-align: top;\n",
              "    }\n",
              "\n",
              "    .dataframe thead th {\n",
              "        text-align: right;\n",
              "    }\n",
              "</style>\n",
              "<table border=\"1\" class=\"dataframe\">\n",
              "  <thead>\n",
              "    <tr style=\"text-align: right;\">\n",
              "      <th></th>\n",
              "      <th>sepal length (cm)</th>\n",
              "      <th>sepal width (cm)</th>\n",
              "      <th>petal length (cm)</th>\n",
              "      <th>petal width (cm)</th>\n",
              "      <th>species</th>\n",
              "    </tr>\n",
              "  </thead>\n",
              "  <tbody>\n",
              "    <tr>\n",
              "      <th>0</th>\n",
              "      <td>5.1</td>\n",
              "      <td>3.5</td>\n",
              "      <td>1.4</td>\n",
              "      <td>0.2</td>\n",
              "      <td>setosa</td>\n",
              "    </tr>\n",
              "    <tr>\n",
              "      <th>1</th>\n",
              "      <td>4.9</td>\n",
              "      <td>3.0</td>\n",
              "      <td>1.4</td>\n",
              "      <td>0.2</td>\n",
              "      <td>setosa</td>\n",
              "    </tr>\n",
              "    <tr>\n",
              "      <th>2</th>\n",
              "      <td>4.7</td>\n",
              "      <td>3.2</td>\n",
              "      <td>1.3</td>\n",
              "      <td>0.2</td>\n",
              "      <td>setosa</td>\n",
              "    </tr>\n",
              "    <tr>\n",
              "      <th>3</th>\n",
              "      <td>4.6</td>\n",
              "      <td>3.1</td>\n",
              "      <td>1.5</td>\n",
              "      <td>0.2</td>\n",
              "      <td>setosa</td>\n",
              "    </tr>\n",
              "    <tr>\n",
              "      <th>4</th>\n",
              "      <td>5.0</td>\n",
              "      <td>3.6</td>\n",
              "      <td>1.4</td>\n",
              "      <td>0.2</td>\n",
              "      <td>setosa</td>\n",
              "    </tr>\n",
              "    <tr>\n",
              "      <th>...</th>\n",
              "      <td>...</td>\n",
              "      <td>...</td>\n",
              "      <td>...</td>\n",
              "      <td>...</td>\n",
              "      <td>...</td>\n",
              "    </tr>\n",
              "    <tr>\n",
              "      <th>145</th>\n",
              "      <td>6.7</td>\n",
              "      <td>3.0</td>\n",
              "      <td>5.2</td>\n",
              "      <td>2.3</td>\n",
              "      <td>virginica</td>\n",
              "    </tr>\n",
              "    <tr>\n",
              "      <th>146</th>\n",
              "      <td>6.3</td>\n",
              "      <td>2.5</td>\n",
              "      <td>5.0</td>\n",
              "      <td>1.9</td>\n",
              "      <td>virginica</td>\n",
              "    </tr>\n",
              "    <tr>\n",
              "      <th>147</th>\n",
              "      <td>6.5</td>\n",
              "      <td>3.0</td>\n",
              "      <td>5.2</td>\n",
              "      <td>2.0</td>\n",
              "      <td>virginica</td>\n",
              "    </tr>\n",
              "    <tr>\n",
              "      <th>148</th>\n",
              "      <td>6.2</td>\n",
              "      <td>3.4</td>\n",
              "      <td>5.4</td>\n",
              "      <td>2.3</td>\n",
              "      <td>virginica</td>\n",
              "    </tr>\n",
              "    <tr>\n",
              "      <th>149</th>\n",
              "      <td>5.9</td>\n",
              "      <td>3.0</td>\n",
              "      <td>5.1</td>\n",
              "      <td>1.8</td>\n",
              "      <td>virginica</td>\n",
              "    </tr>\n",
              "  </tbody>\n",
              "</table>\n",
              "<p>150 rows × 5 columns</p>\n",
              "</div>"
            ],
            "text/plain": [
              "     sepal length (cm)  sepal width (cm)  ...  petal width (cm)    species\n",
              "0                  5.1               3.5  ...               0.2     setosa\n",
              "1                  4.9               3.0  ...               0.2     setosa\n",
              "2                  4.7               3.2  ...               0.2     setosa\n",
              "3                  4.6               3.1  ...               0.2     setosa\n",
              "4                  5.0               3.6  ...               0.2     setosa\n",
              "..                 ...               ...  ...               ...        ...\n",
              "145                6.7               3.0  ...               2.3  virginica\n",
              "146                6.3               2.5  ...               1.9  virginica\n",
              "147                6.5               3.0  ...               2.0  virginica\n",
              "148                6.2               3.4  ...               2.3  virginica\n",
              "149                5.9               3.0  ...               1.8  virginica\n",
              "\n",
              "[150 rows x 5 columns]"
            ]
          },
          "metadata": {
            "tags": []
          },
          "execution_count": 18
        }
      ]
    },
    {
      "cell_type": "code",
      "metadata": {
        "colab": {
          "base_uri": "https://localhost:8080/",
          "height": 204
        },
        "id": "AbYyr2h688sb",
        "outputId": "fce72ace-4d52-4459-b50b-4ff9031b9223"
      },
      "source": [
        "#Looking at my first 5 rows\n",
        "\n",
        "df.head()"
      ],
      "execution_count": 19,
      "outputs": [
        {
          "output_type": "execute_result",
          "data": {
            "text/html": [
              "<div>\n",
              "<style scoped>\n",
              "    .dataframe tbody tr th:only-of-type {\n",
              "        vertical-align: middle;\n",
              "    }\n",
              "\n",
              "    .dataframe tbody tr th {\n",
              "        vertical-align: top;\n",
              "    }\n",
              "\n",
              "    .dataframe thead th {\n",
              "        text-align: right;\n",
              "    }\n",
              "</style>\n",
              "<table border=\"1\" class=\"dataframe\">\n",
              "  <thead>\n",
              "    <tr style=\"text-align: right;\">\n",
              "      <th></th>\n",
              "      <th>sepal length (cm)</th>\n",
              "      <th>sepal width (cm)</th>\n",
              "      <th>petal length (cm)</th>\n",
              "      <th>petal width (cm)</th>\n",
              "      <th>species</th>\n",
              "    </tr>\n",
              "  </thead>\n",
              "  <tbody>\n",
              "    <tr>\n",
              "      <th>0</th>\n",
              "      <td>5.1</td>\n",
              "      <td>3.5</td>\n",
              "      <td>1.4</td>\n",
              "      <td>0.2</td>\n",
              "      <td>setosa</td>\n",
              "    </tr>\n",
              "    <tr>\n",
              "      <th>1</th>\n",
              "      <td>4.9</td>\n",
              "      <td>3.0</td>\n",
              "      <td>1.4</td>\n",
              "      <td>0.2</td>\n",
              "      <td>setosa</td>\n",
              "    </tr>\n",
              "    <tr>\n",
              "      <th>2</th>\n",
              "      <td>4.7</td>\n",
              "      <td>3.2</td>\n",
              "      <td>1.3</td>\n",
              "      <td>0.2</td>\n",
              "      <td>setosa</td>\n",
              "    </tr>\n",
              "    <tr>\n",
              "      <th>3</th>\n",
              "      <td>4.6</td>\n",
              "      <td>3.1</td>\n",
              "      <td>1.5</td>\n",
              "      <td>0.2</td>\n",
              "      <td>setosa</td>\n",
              "    </tr>\n",
              "    <tr>\n",
              "      <th>4</th>\n",
              "      <td>5.0</td>\n",
              "      <td>3.6</td>\n",
              "      <td>1.4</td>\n",
              "      <td>0.2</td>\n",
              "      <td>setosa</td>\n",
              "    </tr>\n",
              "  </tbody>\n",
              "</table>\n",
              "</div>"
            ],
            "text/plain": [
              "   sepal length (cm)  sepal width (cm)  ...  petal width (cm)  species\n",
              "0                5.1               3.5  ...               0.2   setosa\n",
              "1                4.9               3.0  ...               0.2   setosa\n",
              "2                4.7               3.2  ...               0.2   setosa\n",
              "3                4.6               3.1  ...               0.2   setosa\n",
              "4                5.0               3.6  ...               0.2   setosa\n",
              "\n",
              "[5 rows x 5 columns]"
            ]
          },
          "metadata": {
            "tags": []
          },
          "execution_count": 19
        }
      ]
    },
    {
      "cell_type": "code",
      "metadata": {
        "colab": {
          "base_uri": "https://localhost:8080/"
        },
        "id": "KiAw4FSV9a-l",
        "outputId": "40b81c61-5ad6-43be-c06b-61fad72b9122"
      },
      "source": [
        "#Getting information about datatypes and the count of non-nulls\n",
        "\n",
        "df.info()"
      ],
      "execution_count": 20,
      "outputs": [
        {
          "output_type": "stream",
          "text": [
            "<class 'pandas.core.frame.DataFrame'>\n",
            "RangeIndex: 150 entries, 0 to 149\n",
            "Data columns (total 5 columns):\n",
            " #   Column             Non-Null Count  Dtype   \n",
            "---  ------             --------------  -----   \n",
            " 0   sepal length (cm)  150 non-null    float64 \n",
            " 1   sepal width (cm)   150 non-null    float64 \n",
            " 2   petal length (cm)  150 non-null    float64 \n",
            " 3   petal width (cm)   150 non-null    float64 \n",
            " 4   species            150 non-null    category\n",
            "dtypes: category(1), float64(4)\n",
            "memory usage: 5.1 KB\n"
          ],
          "name": "stdout"
        }
      ]
    },
    {
      "cell_type": "code",
      "metadata": {
        "colab": {
          "base_uri": "https://localhost:8080/",
          "height": 173
        },
        "id": "EVLCn9Gg9xIn",
        "outputId": "52db24e5-3627-4f06-baf5-a5ec478328fc"
      },
      "source": [
        "#Looking at the descriptive statistics\n",
        "\n",
        "df.describe().T"
      ],
      "execution_count": 21,
      "outputs": [
        {
          "output_type": "execute_result",
          "data": {
            "text/html": [
              "<div>\n",
              "<style scoped>\n",
              "    .dataframe tbody tr th:only-of-type {\n",
              "        vertical-align: middle;\n",
              "    }\n",
              "\n",
              "    .dataframe tbody tr th {\n",
              "        vertical-align: top;\n",
              "    }\n",
              "\n",
              "    .dataframe thead th {\n",
              "        text-align: right;\n",
              "    }\n",
              "</style>\n",
              "<table border=\"1\" class=\"dataframe\">\n",
              "  <thead>\n",
              "    <tr style=\"text-align: right;\">\n",
              "      <th></th>\n",
              "      <th>count</th>\n",
              "      <th>mean</th>\n",
              "      <th>std</th>\n",
              "      <th>min</th>\n",
              "      <th>25%</th>\n",
              "      <th>50%</th>\n",
              "      <th>75%</th>\n",
              "      <th>max</th>\n",
              "    </tr>\n",
              "  </thead>\n",
              "  <tbody>\n",
              "    <tr>\n",
              "      <th>sepal length (cm)</th>\n",
              "      <td>150.0</td>\n",
              "      <td>5.843333</td>\n",
              "      <td>0.828066</td>\n",
              "      <td>4.3</td>\n",
              "      <td>5.1</td>\n",
              "      <td>5.80</td>\n",
              "      <td>6.4</td>\n",
              "      <td>7.9</td>\n",
              "    </tr>\n",
              "    <tr>\n",
              "      <th>sepal width (cm)</th>\n",
              "      <td>150.0</td>\n",
              "      <td>3.057333</td>\n",
              "      <td>0.435866</td>\n",
              "      <td>2.0</td>\n",
              "      <td>2.8</td>\n",
              "      <td>3.00</td>\n",
              "      <td>3.3</td>\n",
              "      <td>4.4</td>\n",
              "    </tr>\n",
              "    <tr>\n",
              "      <th>petal length (cm)</th>\n",
              "      <td>150.0</td>\n",
              "      <td>3.758000</td>\n",
              "      <td>1.765298</td>\n",
              "      <td>1.0</td>\n",
              "      <td>1.6</td>\n",
              "      <td>4.35</td>\n",
              "      <td>5.1</td>\n",
              "      <td>6.9</td>\n",
              "    </tr>\n",
              "    <tr>\n",
              "      <th>petal width (cm)</th>\n",
              "      <td>150.0</td>\n",
              "      <td>1.199333</td>\n",
              "      <td>0.762238</td>\n",
              "      <td>0.1</td>\n",
              "      <td>0.3</td>\n",
              "      <td>1.30</td>\n",
              "      <td>1.8</td>\n",
              "      <td>2.5</td>\n",
              "    </tr>\n",
              "  </tbody>\n",
              "</table>\n",
              "</div>"
            ],
            "text/plain": [
              "                   count      mean       std  min  25%   50%  75%  max\n",
              "sepal length (cm)  150.0  5.843333  0.828066  4.3  5.1  5.80  6.4  7.9\n",
              "sepal width (cm)   150.0  3.057333  0.435866  2.0  2.8  3.00  3.3  4.4\n",
              "petal length (cm)  150.0  3.758000  1.765298  1.0  1.6  4.35  5.1  6.9\n",
              "petal width (cm)   150.0  1.199333  0.762238  0.1  0.3  1.30  1.8  2.5"
            ]
          },
          "metadata": {
            "tags": []
          },
          "execution_count": 21
        }
      ]
    },
    {
      "cell_type": "code",
      "metadata": {
        "colab": {
          "base_uri": "https://localhost:8080/",
          "height": 204
        },
        "id": "ceJx02qv-Rhq",
        "outputId": "22163175-a48d-4e92-fbac-06e85ce771c4"
      },
      "source": [
        "#I'm grouping the species of irises and looking at their descriptive statistics\n",
        "\n",
        "df.groupby(\"species\").agg([\"min\", \"max\", \"std\", \"mean\"])"
      ],
      "execution_count": 23,
      "outputs": [
        {
          "output_type": "execute_result",
          "data": {
            "text/html": [
              "<div>\n",
              "<style scoped>\n",
              "    .dataframe tbody tr th:only-of-type {\n",
              "        vertical-align: middle;\n",
              "    }\n",
              "\n",
              "    .dataframe tbody tr th {\n",
              "        vertical-align: top;\n",
              "    }\n",
              "\n",
              "    .dataframe thead tr th {\n",
              "        text-align: left;\n",
              "    }\n",
              "\n",
              "    .dataframe thead tr:last-of-type th {\n",
              "        text-align: right;\n",
              "    }\n",
              "</style>\n",
              "<table border=\"1\" class=\"dataframe\">\n",
              "  <thead>\n",
              "    <tr>\n",
              "      <th></th>\n",
              "      <th colspan=\"4\" halign=\"left\">sepal length (cm)</th>\n",
              "      <th colspan=\"4\" halign=\"left\">sepal width (cm)</th>\n",
              "      <th colspan=\"4\" halign=\"left\">petal length (cm)</th>\n",
              "      <th colspan=\"4\" halign=\"left\">petal width (cm)</th>\n",
              "    </tr>\n",
              "    <tr>\n",
              "      <th></th>\n",
              "      <th>min</th>\n",
              "      <th>max</th>\n",
              "      <th>std</th>\n",
              "      <th>mean</th>\n",
              "      <th>min</th>\n",
              "      <th>max</th>\n",
              "      <th>std</th>\n",
              "      <th>mean</th>\n",
              "      <th>min</th>\n",
              "      <th>max</th>\n",
              "      <th>std</th>\n",
              "      <th>mean</th>\n",
              "      <th>min</th>\n",
              "      <th>max</th>\n",
              "      <th>std</th>\n",
              "      <th>mean</th>\n",
              "    </tr>\n",
              "    <tr>\n",
              "      <th>species</th>\n",
              "      <th></th>\n",
              "      <th></th>\n",
              "      <th></th>\n",
              "      <th></th>\n",
              "      <th></th>\n",
              "      <th></th>\n",
              "      <th></th>\n",
              "      <th></th>\n",
              "      <th></th>\n",
              "      <th></th>\n",
              "      <th></th>\n",
              "      <th></th>\n",
              "      <th></th>\n",
              "      <th></th>\n",
              "      <th></th>\n",
              "      <th></th>\n",
              "    </tr>\n",
              "  </thead>\n",
              "  <tbody>\n",
              "    <tr>\n",
              "      <th>setosa</th>\n",
              "      <td>4.3</td>\n",
              "      <td>5.8</td>\n",
              "      <td>0.352490</td>\n",
              "      <td>5.006</td>\n",
              "      <td>2.3</td>\n",
              "      <td>4.4</td>\n",
              "      <td>0.379064</td>\n",
              "      <td>3.428</td>\n",
              "      <td>1.0</td>\n",
              "      <td>1.9</td>\n",
              "      <td>0.173664</td>\n",
              "      <td>1.462</td>\n",
              "      <td>0.1</td>\n",
              "      <td>0.6</td>\n",
              "      <td>0.105386</td>\n",
              "      <td>0.246</td>\n",
              "    </tr>\n",
              "    <tr>\n",
              "      <th>versicolor</th>\n",
              "      <td>4.9</td>\n",
              "      <td>7.0</td>\n",
              "      <td>0.516171</td>\n",
              "      <td>5.936</td>\n",
              "      <td>2.0</td>\n",
              "      <td>3.4</td>\n",
              "      <td>0.313798</td>\n",
              "      <td>2.770</td>\n",
              "      <td>3.0</td>\n",
              "      <td>5.1</td>\n",
              "      <td>0.469911</td>\n",
              "      <td>4.260</td>\n",
              "      <td>1.0</td>\n",
              "      <td>1.8</td>\n",
              "      <td>0.197753</td>\n",
              "      <td>1.326</td>\n",
              "    </tr>\n",
              "    <tr>\n",
              "      <th>virginica</th>\n",
              "      <td>4.9</td>\n",
              "      <td>7.9</td>\n",
              "      <td>0.635880</td>\n",
              "      <td>6.588</td>\n",
              "      <td>2.2</td>\n",
              "      <td>3.8</td>\n",
              "      <td>0.322497</td>\n",
              "      <td>2.974</td>\n",
              "      <td>4.5</td>\n",
              "      <td>6.9</td>\n",
              "      <td>0.551895</td>\n",
              "      <td>5.552</td>\n",
              "      <td>1.4</td>\n",
              "      <td>2.5</td>\n",
              "      <td>0.274650</td>\n",
              "      <td>2.026</td>\n",
              "    </tr>\n",
              "  </tbody>\n",
              "</table>\n",
              "</div>"
            ],
            "text/plain": [
              "           sepal length (cm)                 ... petal width (cm)                 \n",
              "                         min  max       std  ...              max       std   mean\n",
              "species                                      ...                                  \n",
              "setosa                   4.3  5.8  0.352490  ...              0.6  0.105386  0.246\n",
              "versicolor               4.9  7.0  0.516171  ...              1.8  0.197753  1.326\n",
              "virginica                4.9  7.9  0.635880  ...              2.5  0.274650  2.026\n",
              "\n",
              "[3 rows x 16 columns]"
            ]
          },
          "metadata": {
            "tags": []
          },
          "execution_count": 23
        }
      ]
    },
    {
      "cell_type": "markdown",
      "metadata": {
        "id": "_IlXywABAfZK"
      },
      "source": [
        "**Data Visualization**"
      ]
    },
    {
      "cell_type": "code",
      "metadata": {
        "colab": {
          "base_uri": "https://localhost:8080/",
          "height": 1000
        },
        "id": "KtV7zMtlAWeU",
        "outputId": "62a8ffd0-e9e3-41b1-8788-24bab5d63c39"
      },
      "source": [
        "#Visualizing the data as scatter plots according to the species and sepal and petal sizes\n",
        "\n",
        "df.reset_index(inplace=True)\n",
        "\n",
        "for column in df.columns[1:-1]:\n",
        "    sns.scatterplot(data=df, x=\"index\", y=column, hue=\"species\")\n",
        "    plt.show()"
      ],
      "execution_count": 29,
      "outputs": [
        {
          "output_type": "display_data",
          "data": {
            "image/png": "[encoded data removed]",
            "text/plain": [
              "<Figure size 432x288 with 1 Axes>"
            ]
          },
          "metadata": {
            "tags": [],
            "needs_background": "light"
          }
        },
        {
          "output_type": "display_data",
          "data": {
            "image/png": "[encoded data removed]",
            "text/plain": [
              "<Figure size 432x288 with 1 Axes>"
            ]
          },
          "metadata": {
            "tags": [],
            "needs_background": "light"
          }
        },
        {
          "output_type": "display_data",
          "data": {
            "image/png": "[encoded data removed]",
            "text/plain": [
              "<Figure size 432x288 with 1 Axes>"
            ]
          },
          "metadata": {
            "tags": [],
            "needs_background": "light"
          }
        },
        {
          "output_type": "display_data",
          "data": {
            "image/png": "[encoded data removed]",
            "text/plain": [
              "<Figure size 432x288 with 1 Axes>"
            ]
          },
          "metadata": {
            "tags": [],
            "needs_background": "light"
          }
        }
      ]
    },
    {
      "cell_type": "markdown",
      "metadata": {
        "id": "ahQkkFlvCjBM"
      },
      "source": [
        "**Label Encoding**"
      ]
    },
    {
      "cell_type": "code",
      "metadata": {
        "colab": {
          "base_uri": "https://localhost:8080/",
          "height": 204
        },
        "id": "Mpv9PiPgCnXu",
        "outputId": "200f11f4-2eee-429f-dbbc-7c369c83ddb3"
      },
      "source": [
        "#Here, we have to convert the non-numeric species variables to numeric variables. We are going to use label encoding method\n",
        "\n",
        "\n",
        "le = LabelEncoder()\n",
        "target = le.fit_transform(df[\"species\"])\n",
        "df[\"species\"] = target\n",
        "df.head()"
      ],
      "execution_count": 33,
      "outputs": [
        {
          "output_type": "execute_result",
          "data": {
            "text/html": [
              "<div>\n",
              "<style scoped>\n",
              "    .dataframe tbody tr th:only-of-type {\n",
              "        vertical-align: middle;\n",
              "    }\n",
              "\n",
              "    .dataframe tbody tr th {\n",
              "        vertical-align: top;\n",
              "    }\n",
              "\n",
              "    .dataframe thead th {\n",
              "        text-align: right;\n",
              "    }\n",
              "</style>\n",
              "<table border=\"1\" class=\"dataframe\">\n",
              "  <thead>\n",
              "    <tr style=\"text-align: right;\">\n",
              "      <th></th>\n",
              "      <th>index</th>\n",
              "      <th>sepal length (cm)</th>\n",
              "      <th>sepal width (cm)</th>\n",
              "      <th>petal length (cm)</th>\n",
              "      <th>petal width (cm)</th>\n",
              "      <th>species</th>\n",
              "    </tr>\n",
              "  </thead>\n",
              "  <tbody>\n",
              "    <tr>\n",
              "      <th>0</th>\n",
              "      <td>0</td>\n",
              "      <td>5.1</td>\n",
              "      <td>3.5</td>\n",
              "      <td>1.4</td>\n",
              "      <td>0.2</td>\n",
              "      <td>0</td>\n",
              "    </tr>\n",
              "    <tr>\n",
              "      <th>1</th>\n",
              "      <td>1</td>\n",
              "      <td>4.9</td>\n",
              "      <td>3.0</td>\n",
              "      <td>1.4</td>\n",
              "      <td>0.2</td>\n",
              "      <td>0</td>\n",
              "    </tr>\n",
              "    <tr>\n",
              "      <th>2</th>\n",
              "      <td>2</td>\n",
              "      <td>4.7</td>\n",
              "      <td>3.2</td>\n",
              "      <td>1.3</td>\n",
              "      <td>0.2</td>\n",
              "      <td>0</td>\n",
              "    </tr>\n",
              "    <tr>\n",
              "      <th>3</th>\n",
              "      <td>3</td>\n",
              "      <td>4.6</td>\n",
              "      <td>3.1</td>\n",
              "      <td>1.5</td>\n",
              "      <td>0.2</td>\n",
              "      <td>0</td>\n",
              "    </tr>\n",
              "    <tr>\n",
              "      <th>4</th>\n",
              "      <td>4</td>\n",
              "      <td>5.0</td>\n",
              "      <td>3.6</td>\n",
              "      <td>1.4</td>\n",
              "      <td>0.2</td>\n",
              "      <td>0</td>\n",
              "    </tr>\n",
              "  </tbody>\n",
              "</table>\n",
              "</div>"
            ],
            "text/plain": [
              "   index  sepal length (cm)  ...  petal width (cm)  species\n",
              "0      0                5.1  ...               0.2        0\n",
              "1      1                4.9  ...               0.2        0\n",
              "2      2                4.7  ...               0.2        0\n",
              "3      3                4.6  ...               0.2        0\n",
              "4      4                5.0  ...               0.2        0\n",
              "\n",
              "[5 rows x 6 columns]"
            ]
          },
          "metadata": {
            "tags": []
          },
          "execution_count": 33
        }
      ]
    },
    {
      "cell_type": "markdown",
      "metadata": {
        "id": "qtCripLLBx9d"
      },
      "source": [
        "**Test-Train Split**"
      ]
    },
    {
      "cell_type": "code",
      "metadata": {
        "id": "3FCExSYSCI4x"
      },
      "source": [
        "#Splitting my data as train and test models\n",
        "#X indicates independent variable(s), y indicates dependent variable\n",
        "\n",
        "X_train, X_test, y_train, y_test = train_test_split(df.iloc[:, 1:-1], df.iloc[:, -1], test_size=0.2)"
      ],
      "execution_count": 34,
      "outputs": []
    },
    {
      "cell_type": "markdown",
      "metadata": {
        "id": "LdWowVQwDQiC"
      },
      "source": [
        "**Machine Learning Model**"
      ]
    },
    {
      "cell_type": "code",
      "metadata": {
        "id": "UjObWUC_DUHC"
      },
      "source": [
        "xgb_clas = xgb.XGBClassifier(objective=\"multi:softmax\", num_class=3)"
      ],
      "execution_count": 38,
      "outputs": []
    },
    {
      "cell_type": "code",
      "metadata": {
        "colab": {
          "base_uri": "https://localhost:8080/"
        },
        "id": "YiHHDv_KDVl7",
        "outputId": "3a92abf8-bfbc-4488-e183-882a91064588"
      },
      "source": [
        "xgb_clas.fit(X_train, y_train)"
      ],
      "execution_count": 39,
      "outputs": [
        {
          "output_type": "execute_result",
          "data": {
            "text/plain": [
              "XGBClassifier(base_score=0.5, booster='gbtree', colsample_bylevel=1,\n",
              "              colsample_bynode=1, colsample_bytree=1, gamma=0,\n",
              "              learning_rate=0.1, max_delta_step=0, max_depth=3,\n",
              "              min_child_weight=1, missing=None, n_estimators=100, n_jobs=1,\n",
              "              nthread=None, num_class=3, objective='multi:softprob',\n",
              "              random_state=0, reg_alpha=0, reg_lambda=1, scale_pos_weight=1,\n",
              "              seed=None, silent=None, subsample=1, verbosity=1)"
            ]
          },
          "metadata": {
            "tags": []
          },
          "execution_count": 39
        }
      ]
    },
    {
      "cell_type": "code",
      "metadata": {
        "id": "YJxrGF6uDXxi"
      },
      "source": [
        "pred = xgb_clas.predict(X_test)"
      ],
      "execution_count": 40,
      "outputs": []
    },
    {
      "cell_type": "code",
      "metadata": {
        "colab": {
          "base_uri": "https://localhost:8080/"
        },
        "id": "wpJOhZ9VDaUA",
        "outputId": "406c4aa5-a28d-4048-aa24-b1b95a70ed2c"
      },
      "source": [
        "accuracy_score(y_test, pred)"
      ],
      "execution_count": 42,
      "outputs": [
        {
          "output_type": "execute_result",
          "data": {
            "text/plain": [
              "0.9333333333333333"
            ]
          },
          "metadata": {
            "tags": []
          },
          "execution_count": 42
        }
      ]
    },
    {
      "cell_type": "code",
      "metadata": {
        "colab": {
          "base_uri": "https://localhost:8080/"
        },
        "id": "aP-rJKOzDfvN",
        "outputId": "72415f13-7b27-426c-b22b-2445c11558af"
      },
      "source": [
        "confusion_matrix(y_test, pred)"
      ],
      "execution_count": 44,
      "outputs": [
        {
          "output_type": "execute_result",
          "data": {
            "text/plain": [
              "array([[13,  0,  0],\n",
              "       [ 0,  6,  2],\n",
              "       [ 0,  0,  9]])"
            ]
          },
          "metadata": {
            "tags": []
          },
          "execution_count": 44
        }
      ]
    },
    {
      "cell_type": "markdown",
      "metadata": {
        "id": "l7UP5ZfeDlTt"
      },
      "source": [
        "**Conclusion** \n",
        "\n",
        "---\n",
        "\n",
        "When we look at the accuracy score, also the confusion matrix, the model classified the species very well according to their sepal and petal sizes. There is no further need to fine-tune the model."
      ]
    }
  ]
}